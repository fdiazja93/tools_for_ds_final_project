{
 "cells": [
  {
   "cell_type": "markdown",
   "id": "f9db40e9-4a97-4c94-9c61-4fa3f554934c",
   "metadata": {},
   "source": [
    "# Data Science Tools and Ecosystem"
   ]
  },
  {
   "cell_type": "markdown",
   "id": "3d946921-b2c8-4bff-b1d1-ccf83fe5e60a",
   "metadata": {},
   "source": [
    "In this notebook, Data Science Tools and Ecosystem are summarized."
   ]
  },
  {
   "cell_type": "markdown",
   "id": "501c97ca-0dc8-4a95-8839-b7a0e3b26d81",
   "metadata": {},
   "source": [
    "**Objectives:**\n",
    "- Display popular languages in Data Science\n",
    "- Display commonly used libraries used by Data Scientists\n",
    "- Perform basic arithmetic operations using Python"
   ]
  },
  {
   "cell_type": "markdown",
   "id": "b4b7ee75-ddff-4256-a35b-5e92e80db8aa",
   "metadata": {},
   "source": [
    "Some of the popular languages that Data Scientists use are:\n",
    "\n",
    "1. Python\n",
    "2. R\n",
    "3. SQL"
   ]
  },
  {
   "cell_type": "markdown",
   "id": "7bb35297-c2a2-4819-8981-67594ff1a677",
   "metadata": {},
   "source": [
    "Some of the commonly used libraries used by Data Scientists include:\n",
    "\n",
    "1. Numpy\n",
    "2. Pandas\n",
    "3. Scikit-learn"
   ]
  },
  {
   "cell_type": "markdown",
   "id": "3f02f6b7-8a14-4599-b9d4-b2a516a15b0f",
   "metadata": {},
   "source": [
    "| Data Science Tools |\n",
    "|--------------------|\n",
    "|       GitHub       | \n",
    "|       Jupyter      |\n",
    "|       RStudio      |\n",
    "\n"
   ]
  },
  {
   "cell_type": "markdown",
   "id": "65ce6be6-a63f-40e3-955a-5c26f662f13b",
   "metadata": {},
   "source": [
    "### Below are a few examples of evaluating arithmetic expressions in Python"
   ]
  },
  {
   "cell_type": "code",
   "execution_count": 1,
   "id": "2a2ddb71-8fb8-4838-a3da-6b2ae43d9169",
   "metadata": {},
   "outputs": [
    {
     "data": {
      "text/plain": [
       "17"
      ]
     },
     "execution_count": 1,
     "metadata": {},
     "output_type": "execute_result"
    }
   ],
   "source": [
    "# This a simple arithmetic expression to mutiply then add integers\n",
    "\n",
    "(3 * 4) + 5"
   ]
  },
  {
   "cell_type": "code",
   "execution_count": 2,
   "id": "2a0ccbf4-c857-46f0-91e4-c31d088b80d9",
   "metadata": {},
   "outputs": [
    {
     "data": {
      "text/plain": [
       "3.3333333333333335"
      ]
     },
     "execution_count": 2,
     "metadata": {},
     "output_type": "execute_result"
    }
   ],
   "source": [
    "# This will convert 200 minutes to hours by diving by 60\n",
    "\n",
    "mins = 200 # Amount of minutes\n",
    "hrs = mins / 60 # Conversion to hours\n",
    "hrs # Displays the result"
   ]
  },
  {
   "cell_type": "markdown",
   "id": "03001f88-46e9-46cf-9783-590773987059",
   "metadata": {},
   "source": [
    "## Author\n",
    "\n",
    "Felipe Díaz Jaramillo"
   ]
  },
  {
   "cell_type": "code",
   "execution_count": null,
   "id": "d3a32a38-5bc3-4616-b89d-9e17e2988d78",
   "metadata": {},
   "outputs": [],
   "source": []
  }
 ],
 "metadata": {
  "kernelspec": {
   "display_name": "Python 3 (ipykernel)",
   "language": "python",
   "name": "python3"
  },
  "language_info": {
   "codemirror_mode": {
    "name": "ipython",
    "version": 3
   },
   "file_extension": ".py",
   "mimetype": "text/x-python",
   "name": "python",
   "nbconvert_exporter": "python",
   "pygments_lexer": "ipython3",
   "version": "3.12.3"
  }
 },
 "nbformat": 4,
 "nbformat_minor": 5
}
